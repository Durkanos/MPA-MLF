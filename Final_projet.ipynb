{
  "nbformat": 4,
  "nbformat_minor": 0,
  "metadata": {
    "colab": {
      "provenance": []
    },
    "kernelspec": {
      "name": "python3",
      "display_name": "Python 3"
    },
    "language_info": {
      "name": "python"
    }
  },
  "cells": [
    {
      "cell_type": "code",
      "source": [
        "import os\n",
        "import numpy as np\n",
        "import cv2\n",
        "import pandas as pd\n",
        "from sklearn.model_selection import train_test_split\n",
        "from tensorflow.keras.models import Sequential\n",
        "from tensorflow.keras.layers import Conv2D, MaxPooling2D, Flatten, Dense\n",
        "from tensorflow.keras.utils import to_categorical"
      ],
      "metadata": {
        "id": "uGIIVIw9fRYi"
      },
      "execution_count": null,
      "outputs": []
    },
    {
      "cell_type": "code",
      "source": [
        "def load_images(directory):\n",
        "    images = []\n",
        "    filenames = []\n",
        "    for filename in os.listdir(directory):\n",
        "        if filename.endswith(\".png\"):\n",
        "            img = cv2.imread(os.path.join(directory, filename), cv2.IMREAD_GRAYSCALE)\n",
        "            img = cv2.resize(img, (128, 128))  # Resize image to a fixed size\n",
        "            images.append(img)\n",
        "            filenames.append(int(str(filename)[4:-4]))\n",
        "    return images, filenames"
      ],
      "metadata": {
        "id": "DF4T5r3ifVdD"
      },
      "execution_count": null,
      "outputs": []
    },
    {
      "cell_type": "code",
      "source": [
        "images, filenames = load_images(\"/content/Untitled Folder/\")"
      ],
      "metadata": {
        "id": "Hzv0Uw0TfZdM"
      },
      "execution_count": null,
      "outputs": []
    },
    {
      "cell_type": "code",
      "source": [
        "#%% Normalize images\n",
        "images = np.array(images)\n",
        "images = images / 255.0"
      ],
      "metadata": {
        "id": "dZ4HaFCAfd9z"
      },
      "execution_count": null,
      "outputs": []
    },
    {
      "cell_type": "code",
      "source": [
        "#%% Load information from CSV\n",
        "labels_df = pd.read_csv(\"/content/Untitled Folder/y_train.csv\")\n",
        "labels_dict = dict(zip(labels_df['id'], labels_df['target']))\n",
        "labels = [labels_dict[filename] for filename in filenames]\n",
        "labels = np.array(labels)"
      ],
      "metadata": {
        "id": "yw179WNPfkde"
      },
      "execution_count": null,
      "outputs": []
    },
    {
      "cell_type": "code",
      "source": [
        "#%% Split dataset into training and validation sets\n",
        "X_train, X_val, y_train, y_val = train_test_split(images, labels, test_size=0.2, random_state=42)"
      ],
      "metadata": {
        "id": "Y5pj2GRTfkzE"
      },
      "execution_count": null,
      "outputs": []
    },
    {
      "cell_type": "code",
      "source": [
        "#%% Reshape data for CNN input\n",
        "X_train = X_train.reshape(-1, 128, 128, 1)\n",
        "X_val = X_val.reshape(-1, 128, 128, 1)"
      ],
      "metadata": {
        "id": "gEd39YQ4fk1g"
      },
      "execution_count": null,
      "outputs": []
    },
    {
      "cell_type": "code",
      "source": [
        "#%% Convert labels to one-hot encoding\n",
        "num_classes = 4\n",
        "y_train = to_categorical(y_train, num_classes=num_classes)\n",
        "y_val = to_categorical(y_val, num_classes=num_classes)\n"
      ],
      "metadata": {
        "id": "SeaoTIEIfk32"
      },
      "execution_count": null,
      "outputs": []
    },
    {
      "cell_type": "markdown",
      "source": [
        "In the following code, just change the values to try to optimize the result"
      ],
      "metadata": {
        "id": "OpdbvKSh-A5f"
      }
    },
    {
      "cell_type": "code",
      "source": [
        "#%% Define CNN model\n",
        "model = Sequential([\n",
        "    Conv2D(32, (3, 3), activation='relu', input_shape=(128, 128, 1)),\n",
        "    MaxPooling2D((2, 2)),\n",
        "    Conv2D(64, (3, 3), activation='relu'),\n",
        "    MaxPooling2D((2, 2)),\n",
        "    Flatten(),\n",
        "    Dense(64, activation='relu'),\n",
        "    Dense(num_classes, activation='softmax')  # Nombre de sorties égal au nombre de classes\n",
        "])"
      ],
      "metadata": {
        "id": "gYziOT1Efk5_"
      },
      "execution_count": null,
      "outputs": []
    },
    {
      "cell_type": "code",
      "source": [
        "#%% Compile model\n",
        "model.compile(optimizer='adam', loss='categorical_crossentropy', metrics=['accuracy'])"
      ],
      "metadata": {
        "id": "m9d9sET0fyAS"
      },
      "execution_count": null,
      "outputs": []
    },
    {
      "cell_type": "markdown",
      "source": [
        "In the code bellow just change the number of epochs"
      ],
      "metadata": {
        "id": "7JVlXHna-Y6I"
      }
    },
    {
      "cell_type": "code",
      "source": [
        "#%% Train model\n",
        "model.fit(X_train, y_train, epochs=20, batch_size=32, validation_data=(X_val, y_val))"
      ],
      "metadata": {
        "colab": {
          "base_uri": "https://localhost:8080/"
        },
        "id": "2Yjjge4NfyDe",
        "outputId": "a37985dd-a182-4533-910e-06eaeefc5b48"
      },
      "execution_count": null,
      "outputs": [
        {
          "output_type": "stream",
          "name": "stdout",
          "text": [
            "Epoch 1/20\n",
            "14/14 [==============================] - 14s 899ms/step - loss: 1.3569 - accuracy: 0.2616 - val_loss: 1.3880 - val_accuracy: 0.3426\n",
            "Epoch 2/20\n",
            "14/14 [==============================] - 12s 840ms/step - loss: 1.3417 - accuracy: 0.2917 - val_loss: 1.3896 - val_accuracy: 0.2315\n",
            "Epoch 3/20\n",
            "14/14 [==============================] - 12s 815ms/step - loss: 1.3347 - accuracy: 0.3009 - val_loss: 1.3695 - val_accuracy: 0.3333\n",
            "Epoch 4/20\n",
            "14/14 [==============================] - 13s 912ms/step - loss: 1.3317 - accuracy: 0.3102 - val_loss: 1.3793 - val_accuracy: 0.3426\n",
            "Epoch 5/20\n",
            "14/14 [==============================] - 13s 920ms/step - loss: 1.3273 - accuracy: 0.3565 - val_loss: 1.3706 - val_accuracy: 0.3519\n",
            "Epoch 6/20\n",
            "14/14 [==============================] - 12s 900ms/step - loss: 1.3154 - accuracy: 0.3472 - val_loss: 1.3786 - val_accuracy: 0.3426\n",
            "Epoch 7/20\n",
            "14/14 [==============================] - 12s 870ms/step - loss: 1.3191 - accuracy: 0.3218 - val_loss: 1.3898 - val_accuracy: 0.2407\n",
            "Epoch 8/20\n",
            "14/14 [==============================] - 11s 793ms/step - loss: 1.2937 - accuracy: 0.3912 - val_loss: 1.4015 - val_accuracy: 0.2500\n",
            "Epoch 9/20\n",
            "14/14 [==============================] - 12s 817ms/step - loss: 1.2689 - accuracy: 0.4306 - val_loss: 1.4024 - val_accuracy: 0.2963\n",
            "Epoch 10/20\n",
            "14/14 [==============================] - 14s 1s/step - loss: 1.2407 - accuracy: 0.4583 - val_loss: 1.4849 - val_accuracy: 0.2778\n",
            "Epoch 11/20\n",
            "14/14 [==============================] - 12s 868ms/step - loss: 1.2122 - accuracy: 0.4306 - val_loss: 1.4403 - val_accuracy: 0.2593\n",
            "Epoch 12/20\n",
            "14/14 [==============================] - 11s 825ms/step - loss: 1.1762 - accuracy: 0.4653 - val_loss: 1.4898 - val_accuracy: 0.3241\n",
            "Epoch 13/20\n",
            "14/14 [==============================] - 11s 736ms/step - loss: 1.1605 - accuracy: 0.4931 - val_loss: 1.4513 - val_accuracy: 0.3333\n",
            "Epoch 14/20\n",
            "14/14 [==============================] - 12s 855ms/step - loss: 1.1165 - accuracy: 0.4907 - val_loss: 1.5953 - val_accuracy: 0.2500\n",
            "Epoch 15/20\n",
            "14/14 [==============================] - 13s 921ms/step - loss: 1.0848 - accuracy: 0.5255 - val_loss: 1.6536 - val_accuracy: 0.3148\n",
            "Epoch 16/20\n",
            "14/14 [==============================] - 11s 795ms/step - loss: 1.0231 - accuracy: 0.5556 - val_loss: 1.6929 - val_accuracy: 0.3056\n",
            "Epoch 17/20\n",
            "14/14 [==============================] - 9s 622ms/step - loss: 0.9712 - accuracy: 0.6042 - val_loss: 1.9060 - val_accuracy: 0.3056\n",
            "Epoch 18/20\n",
            "14/14 [==============================] - 10s 719ms/step - loss: 0.8993 - accuracy: 0.6296 - val_loss: 1.6596 - val_accuracy: 0.3611\n",
            "Epoch 19/20\n",
            "14/14 [==============================] - 10s 723ms/step - loss: 0.9013 - accuracy: 0.6366 - val_loss: 1.7525 - val_accuracy: 0.3333\n",
            "Epoch 20/20\n",
            "14/14 [==============================] - 10s 712ms/step - loss: 0.8005 - accuracy: 0.6713 - val_loss: 1.8420 - val_accuracy: 0.3611\n"
          ]
        },
        {
          "output_type": "execute_result",
          "data": {
            "text/plain": [
              "<keras.src.callbacks.History at 0x7d6ae6ba77f0>"
            ]
          },
          "metadata": {},
          "execution_count": 16
        }
      ]
    }
  ]
}